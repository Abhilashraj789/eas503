{
 "cells": [
  {
   "cell_type": "code",
   "execution_count": 28,
   "metadata": {},
   "outputs": [
    {
     "data": {
      "text/plain": [
       "True"
      ]
     },
     "execution_count": 28,
     "metadata": {},
     "output_type": "execute_result"
    }
   ],
   "source": [
    "import pandas as pd\n",
    "import sqlite3\n",
    "conn = sqlite3.connect(\"join_example_database.db\")\n",
    "cur = conn.cursor()\n",
    "sql_statement = \"select Quantities.product, Quantities.quantity FROM Quantities Where quantity > 60;\"\n",
    "df = pd.read_sql_query(sql_statement, conn)\n",
    "df.to_csv('dbex_1.csv', index = False)\n",
    "data = pd.read_csv(\"dbex_1.csv\") \n",
    "df.equals(data)"
   ]
  },
  {
   "cell_type": "code",
   "execution_count": 29,
   "metadata": {},
   "outputs": [],
   "source": [
    "def dbex_1():\n",
    "    \"\"\"\n",
    "    Return all products with quantity greater than 60;\n",
    "    output columns: product_name, product_quantity\n",
    "    output (df, sql_statement)\n",
    "    \"\"\"\n",
    "\n",
    "    import pandas as pd\n",
    "    import sqlite3\n",
    "    conn = sqlite3.connect(\"join_example_database.db\")\n",
    "    cur = conn.cursor()\n",
    "    sql_statement = \"select Quantities.product, Quantities.quantity FROM Quantities Where quantity > 60;\"\n",
    "    df = pd.read_sql_query(sql_statement, conn)\n",
    "    return (df, sql_statement)\n"
   ]
  },
  {
   "cell_type": "code",
   "execution_count": 31,
   "metadata": {},
   "outputs": [],
   "source": [
    "df, sql_statement = dbex_1()\n",
    "\n",
    "data = data = pd.read_csv(\"dbex_1.csv\") \n",
    "conn = sqlite3.connect(\"join_example_database.db\")\n",
    "cur = conn.cursor()\n",
    "df = pd.read_sql_query(sql_statement, conn)\n",
    "\n",
    "assert df.equals(data) == True"
   ]
  },
  {
   "cell_type": "code",
   "execution_count": null,
   "metadata": {},
   "outputs": [],
   "source": []
  }
 ],
 "metadata": {
  "kernelspec": {
   "display_name": "Python 3",
   "language": "python",
   "name": "python3"
  },
  "language_info": {
   "codemirror_mode": {
    "name": "ipython",
    "version": 3
   },
   "file_extension": ".py",
   "mimetype": "text/x-python",
   "name": "python",
   "nbconvert_exporter": "python",
   "pygments_lexer": "ipython3",
   "version": "3.7.6"
  }
 },
 "nbformat": 4,
 "nbformat_minor": 4
}
