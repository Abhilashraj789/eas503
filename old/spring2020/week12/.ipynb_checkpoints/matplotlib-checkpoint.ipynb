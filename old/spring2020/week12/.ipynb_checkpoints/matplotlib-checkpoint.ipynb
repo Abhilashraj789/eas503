{
 "cells": [
  {
   "cell_type": "code",
   "execution_count": 1,
   "metadata": {},
   "outputs": [],
   "source": [
    "import matplotlib.pyplot as plt"
   ]
  },
  {
   "cell_type": "code",
   "execution_count": 2,
   "metadata": {},
   "outputs": [],
   "source": [
    "%matplotlib inline"
   ]
  },
  {
   "cell_type": "code",
   "execution_count": 3,
   "metadata": {},
   "outputs": [],
   "source": [
    "import numpy as np\n",
    "x = np.linspace(1, 10, 10)\n",
    "y = x ** 2"
   ]
  },
  {
   "cell_type": "code",
   "execution_count": 4,
   "metadata": {},
   "outputs": [
    {
     "data": {
      "text/plain": [
       "array([ 1.,  2.,  3.,  4.,  5.,  6.,  7.,  8.,  9., 10.])"
      ]
     },
     "execution_count": 4,
     "metadata": {},
     "output_type": "execute_result"
    }
   ],
   "source": [
    "x"
   ]
  },
  {
   "cell_type": "code",
   "execution_count": 5,
   "metadata": {},
   "outputs": [
    {
     "data": {
      "text/plain": [
       "array([  1.,   4.,   9.,  16.,  25.,  36.,  49.,  64.,  81., 100.])"
      ]
     },
     "execution_count": 5,
     "metadata": {},
     "output_type": "execute_result"
    }
   ],
   "source": [
    "y"
   ]
  },
  {
   "cell_type": "code",
   "execution_count": 6,
   "metadata": {},
   "outputs": [
    {
     "data": {
      "text/plain": [
       "[<matplotlib.lines.Line2D at 0x1ebbc851948>]"
      ]
     },
     "execution_count": 6,
     "metadata": {},
     "output_type": "execute_result"
    },
    {
     "data": {
      "image/png": "[encoded data removed]",
      "text/plain": [
       "<Figure size 432x288 with 1 Axes>"
      ]
     },
     "metadata": {
      "needs_background": "light"
     },
     "output_type": "display_data"
    }
   ],
   "source": [
    "# Method 1\n",
    "# A simple plot\n",
    "plt.plot(x,y)"
   ]
  },
  {
   "cell_type": "code",
   "execution_count": null,
   "metadata": {},
   "outputs": [],
   "source": [
    "# Shortcut for controlling the line style and color\n",
    "plt.plot(x,y, 'r+')\n",
    "# https://matplotlib.org/3.1.1/api/_as_gen/matplotlib.axes.Axes.plot.html"
   ]
  },
  {
   "cell_type": "code",
   "execution_count": null,
   "metadata": {},
   "outputs": [],
   "source": [
    "# Adding labels and titles\n",
    "plt.plot(x,y)\n",
    "plt.xlabel('X Label')\n",
    "plt.ylabel('Y Label')\n",
    "plt.title('Title')"
   ]
  },
  {
   "cell_type": "code",
   "execution_count": null,
   "metadata": {},
   "outputs": [],
   "source": [
    "# Subplots -- have multiple plots\n",
    "plt.subplot(1,2,1)\n",
    "plt.plot(x,y)\n",
    "plt.xlabel('X Label')\n",
    "plt.ylabel('Y Label')\n",
    "plt.title('Title')\n",
    "\n",
    "plt.subplot(1,2,2)\n",
    "plt.plot(x,y, 'r')\n",
    "plt.xlabel('X Label')\n",
    "plt.ylabel('Y Label')\n",
    "plt.title('Title')"
   ]
  },
  {
   "cell_type": "code",
   "execution_count": null,
   "metadata": {},
   "outputs": [],
   "source": [
    "# Subplots -- have multiple plots\n",
    "plt.subplot(2,2,1)\n",
    "plt.plot(x,y)\n",
    "plt.xlabel('X Label')\n",
    "plt.ylabel('Y Label')\n",
    "plt.title('1')\n",
    "\n",
    "plt.subplot(2,2,2)\n",
    "plt.plot(x,y, 'r')\n",
    "plt.xlabel('X Label')\n",
    "plt.ylabel('Y Label')\n",
    "plt.title('2')\n",
    "\n",
    "plt.subplot(2,2,3)\n",
    "plt.plot(x,y)\n",
    "plt.xlabel('X Label')\n",
    "plt.ylabel('Y Label')\n",
    "plt.title('3')\n",
    "\n",
    "plt.subplot(2,2,4)\n",
    "plt.plot(x,y, 'r')\n",
    "plt.xlabel('X Label')\n",
    "plt.ylabel('Y Label')\n",
    "plt.title('4')"
   ]
  },
  {
   "cell_type": "code",
   "execution_count": null,
   "metadata": {},
   "outputs": [],
   "source": [
    "# Method 2 -- Object Oriented way\n",
    "fig = plt.figure()\n",
    "\n",
    "axes = fig.add_axes([0.1, 0.1, 0.5, 0.8])\n",
    "# rect : sequence of float\n",
    "# The dimensions [left, bottom, width, height] of the new axes. \n",
    "# All quantities are in fractions of figure width and height.\n"
   ]
  },
  {
   "cell_type": "code",
   "execution_count": null,
   "metadata": {},
   "outputs": [],
   "source": [
    "\n",
    "fig = plt.figure()\n",
    "\n",
    "axes = fig.add_axes([0.1, 0.1, 0.5, 1])\n",
    "# rect : sequence of float\n",
    "# The dimensions [left, bottom, width, height] of the new axes. \n",
    "# All quantities are in fractions of figure width and height.\n"
   ]
  },
  {
   "cell_type": "code",
   "execution_count": null,
   "metadata": {},
   "outputs": [],
   "source": [
    "fig = plt.figure()\n",
    "\n",
    "axes = fig.add_axes([0.1, 0.1, 1, 1])\n",
    "# rect : sequence of float\n",
    "# The dimensions [left, bottom, width, height] of the new axes. \n",
    "# All quantities are in fractions of figure width and height.\n",
    "\n",
    "axes.plot(x,y)\n",
    "axes.set_xlabel('X Label')\n",
    "axes.set_ylabel('Y Label')\n",
    "axes.set_title('Title')"
   ]
  },
  {
   "cell_type": "code",
   "execution_count": null,
   "metadata": {},
   "outputs": [],
   "source": [
    "fig = plt.figure()\n",
    "\n",
    "axes1 = fig.add_axes([0, 0, 1, 1])\n",
    "axes2 = fig.add_axes([0.1, 0.1, 1, 1])\n",
    "# rect : sequence of float\n",
    "# The dimensions [left, bottom, width, height] of the new axes. \n",
    "# All quantities are in fractions of figure width and height.\n",
    "\n"
   ]
  },
  {
   "cell_type": "code",
   "execution_count": null,
   "metadata": {},
   "outputs": [],
   "source": [
    "fig = plt.figure()\n",
    "\n",
    "axes1 = fig.add_axes([0, 0, 1, 1])\n",
    "axes2 = fig.add_axes([0.12, 0.45, 0.45, 0.45])\n",
    "# rect : sequence of float\n",
    "# The dimensions [left, bottom, width, height] of the new axes. \n",
    "# All quantities are in fractions of figure width and height.\n",
    "\n",
    "axes1.plot(x,y)\n",
    "axes1.set_xlabel('X Label')\n",
    "axes1.set_ylabel('Y Label')\n",
    "axes1.set_title('Larger Plot')\n",
    "\n",
    "axes2.plot(x,y, 'ro')\n",
    "axes2.set_xlabel('X Label')\n",
    "axes2.set_ylabel('Y Label')\n",
    "axes2.set_title('Smaller Plot')\n"
   ]
  },
  {
   "cell_type": "code",
   "execution_count": null,
   "metadata": {},
   "outputs": [],
   "source": [
    "fig, axes = plt.subplots(nrows=2, ncols=2)\n",
    "#plt.tight_layout()\n",
    "axes\n"
   ]
  },
  {
   "cell_type": "code",
   "execution_count": null,
   "metadata": {},
   "outputs": [],
   "source": [
    "fig, axes = plt.subplots(nrows=2, ncols=2)\n",
    "\n",
    "\n",
    "axes[0][0].plot(x,y)\n",
    "plt.tight_layout()"
   ]
  },
  {
   "cell_type": "code",
   "execution_count": null,
   "metadata": {
    "scrolled": true
   },
   "outputs": [],
   "source": [
    "fig, axes = plt.subplots(nrows=2, ncols=2)\n",
    "\n",
    "\n",
    "for idx, ax in enumerate(axes.reshape(-1), 1): \n",
    "    ax.plot(x,y)\n",
    "    ax.set_title(idx)\n",
    "plt.tight_layout()\n"
   ]
  },
  {
   "cell_type": "code",
   "execution_count": null,
   "metadata": {},
   "outputs": [],
   "source": [
    "fig, axes = plt.subplots(nrows=2, ncols=1, figsize=(6,3))\n",
    "axes[0].plot(x,y)\n",
    "axes[1].plot(x,y, 'r')\n",
    "plt.tight_layout()\n",
    "\n",
    "# figsize : (float, float), optional, default: None\n",
    "# width, height in inches. If not provided, defaults to "
   ]
  },
  {
   "cell_type": "code",
   "execution_count": null,
   "metadata": {},
   "outputs": [],
   "source": [
    "fig.savefig('figure') #default is png\n",
    "fig.savefig('figure.jpeg') #default is png\n",
    "fig.savefig('figure2', dpi=300) \n",
    "fig.savefig('figure2svg.svg', dpi=300) "
   ]
  },
  {
   "cell_type": "code",
   "execution_count": null,
   "metadata": {},
   "outputs": [],
   "source": [
    "fig = plt.figure()\n",
    "\n",
    "axes = fig.add_axes([0.1, 0.1, 1, 1])\n",
    "# rect : sequence of float\n",
    "# The dimensions [left, bottom, width, height] of the new axes. \n",
    "# All quantities are in fractions of figure width and height.\n",
    "\n",
    "axes.plot(x,y, label='x,y')\n",
    "axes.plot(x,y*3,label='x,y**3')\n",
    "axes.set_xlabel('X Label')\n",
    "axes.set_ylabel('Y Label')\n",
    "axes.set_title('Title')\n",
    "axes.legend(loc=7, fontsize=24)\n",
    "# axes.legend(loc=1)\n",
    "# axes.legend(loc=[0.5,0.5])\n",
    "\n",
    "# Location String \tLocation Code\n",
    "# 'best' \t0\n",
    "# 'upper right' \t1\n",
    "# 'upper left' \t2\n",
    "# 'lower left' \t3\n",
    "# 'lower right' \t4\n",
    "# 'right' \t5\n",
    "# 'center left' \t6\n",
    "# 'center right' \t7\n",
    "# 'lower center' \t8\n",
    "# 'upper center' \t9\n",
    "# 'center' \t10"
   ]
  },
  {
   "cell_type": "code",
   "execution_count": null,
   "metadata": {},
   "outputs": [],
   "source": [
    "fig = plt.figure()\n",
    "\n",
    "axes = fig.add_axes([0.1, 0.1, 1, 1])\n",
    "# axes.plot(x,y, 'r')\n",
    "# axes.plot(x,y, color='yellow')\n",
    "\n",
    "# axes.plot(x,y, 'k')\n",
    "axes.plot(x,y, color='black')\n",
    "\n",
    "# # https://www.color-hex.com/\n",
    "axes.plot(x,y, color='#a6b896')"
   ]
  },
  {
   "cell_type": "code",
   "execution_count": null,
   "metadata": {},
   "outputs": [],
   "source": [
    "fig = plt.figure()\n",
    "\n",
    "axes = fig.add_axes([0.1, 0.1, 1, 1])\n",
    "# axes.plot(x,y, 'r', linewidth=4)\n",
    "\n",
    "axes.plot(x,y, 'r--o', lw=4, alpha=1.0)"
   ]
  },
  {
   "cell_type": "code",
   "execution_count": null,
   "metadata": {},
   "outputs": [],
   "source": [
    "fig = plt.figure()\n",
    "\n",
    "axes = fig.add_axes([0.1, 0.1, 1, 1])\n",
    "axes.plot(x,y, 'r', lw=5, linestyle=':')\n",
    "# Linestyle \tDescription\n",
    "# '-' or 'solid' \tsolid line\n",
    "# '--' or 'dashed' \tdashed line\n",
    "# '-.' or 'dashdot' \tdash-dotted line\n",
    "# ':' or 'dotted' \tdotted line\n",
    "# 'None' or ' ' or '' \tdraw nothing"
   ]
  },
  {
   "cell_type": "code",
   "execution_count": null,
   "metadata": {},
   "outputs": [],
   "source": [
    "fig = plt.figure()\n",
    "\n",
    "axes = fig.add_axes([0.1, 0.1, 1, 1])\n",
    "# axes.plot(x,y, marker='o')\n",
    "axes.plot(x,y, 'b', marker='o', markersize=10)\n",
    "#https://matplotlib.org/3.1.1/api/markers_api.html"
   ]
  },
  {
   "cell_type": "code",
   "execution_count": null,
   "metadata": {},
   "outputs": [],
   "source": [
    "fig = plt.figure()\n",
    "\n",
    "axes = fig.add_axes([0.1, 0.1, 1, 1])\n",
    "# axes.plot(x,y, 'b', marker='o', markersize=10, markerfacecolor='red')\n",
    "axes.plot(x,y, 'b', marker='o', markersize=10, markerfacecolor='yellow', markeredgewidth=3, markeredgecolor='k')\n",
    "#https://matplotlib.org/3.1.1/api/markers_api.html"
   ]
  },
  {
   "cell_type": "code",
   "execution_count": null,
   "metadata": {},
   "outputs": [],
   "source": [
    "fig = plt.figure()\n",
    "\n",
    "axes = fig.add_axes([0, 0, 1, 1])\n",
    "axes.plot(x,y)\n",
    "axes.set_xlim([0,5])\n"
   ]
  },
  {
   "cell_type": "code",
   "execution_count": null,
   "metadata": {},
   "outputs": [],
   "source": [
    "# https://github.com/rougier/matplotlib-tutorial\n",
    "# https://medium.com/@kapil.mathur1987/matplotlib-an-introduction-to-its-object-oriented-interface-a318b1530aed"
   ]
  },
  {
   "cell_type": "code",
   "execution_count": null,
   "metadata": {},
   "outputs": [],
   "source": [
    "import matplotlib.pyplot as plt \n",
    "import pandas as pd \n",
    "import numpy as np\n",
    "data = pd.read_csv(\"https://raw.githubusercontent.com/fivethirtyeight/data/master/airline-safety/airline-safety.csv\")\n",
    "# Get figure object and an array of axes objects\n",
    "fig, arr_ax = plt.subplots(2, 2)\n",
    "\n",
    "# Histogram - fatal_accidents_85_99\n",
    "arr_ax[0,0].hist(data['fatal_accidents_85_99'])\n",
    "arr_ax[0,0].set_title('fatal_accidents_85_99')\n",
    "\n",
    "# Histogram - fatal_accidents_00_14\n",
    "arr_ax[0,1].hist(data['fatal_accidents_00_14'])\n",
    "arr_ax[0,1].set_title('fatal_accidents_00_14')\n",
    "\n",
    "# Scatter - fatal_accidents_85_99 vs fatalities_85_99\n",
    "arr_ax[1,0].scatter(data['fatal_accidents_85_99'], data['fatalities_85_99'])\n",
    "arr_ax[1,0].set_xlabel('fatal_accidents_85_99')\n",
    "arr_ax[1,0].set_ylabel('fatalities_85_99')\n",
    "\n",
    "# scatter - avail_seat_km_per_week vs fatalities_00_14\n",
    "arr_ax[1,1].scatter(data['avail_seat_km_per_week'], data['fatalities_00_14'])\n",
    "arr_ax[1,1].set_xlabel('avail_seat_km_per_week')\n",
    "arr_ax[1,1].set_ylabel('fatalities_00_14')\n",
    "plt.tight_layout()\n",
    "plt.show()\n"
   ]
  },
  {
   "cell_type": "code",
   "execution_count": null,
   "metadata": {},
   "outputs": [],
   "source": []
  }
 ],
 "metadata": {
  "kernelspec": {
   "display_name": "Python 3",
   "language": "python",
   "name": "python3"
  },
  "language_info": {
   "codemirror_mode": {
    "name": "ipython",
    "version": 3
   },
   "file_extension": ".py",
   "mimetype": "text/x-python",
   "name": "python",
   "nbconvert_exporter": "python",
   "pygments_lexer": "ipython3",
   "version": "3.7.6"
  }
 },
 "nbformat": 4,
 "nbformat_minor": 2
}
